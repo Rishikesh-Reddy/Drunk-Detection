{
 "cells": [
  {
   "cell_type": "code",
   "execution_count": 26,
   "metadata": {},
   "outputs": [],
   "source": [
    "import os,random,shutil\n",
    "from PIL import Image\n",
    "import numpy as np\n",
    "from tqdm import tqdm"
   ]
  },
  {
   "cell_type": "code",
   "execution_count": 21,
   "metadata": {},
   "outputs": [
    {
     "name": "stdout",
     "output_type": "stream",
     "text": [
      "01_petros\n",
      "02_giorgos\n",
      "03_vasil\n",
      "04_elpis\n",
      "05_artemis\n",
      "06_tris\n",
      "07_thanos\n",
      "08_tzon\n",
      "09_giorg\n",
      "10_konst\n",
      "11_takis\n",
      "12_loukas\n",
      "13_manos\n",
      "14_lampros\n",
      "15_konstantinos\n",
      "16_nikos\n",
      "17_kwstas\n",
      "18_dionisis\n",
      "19_pasxalis\n",
      "20_nefeli\n",
      "21_ilias\n",
      "22_dimitris\n",
      "23_vassiliskar\n",
      "24_rig\n",
      "25_nausika\n",
      "26_tsag\n",
      "27_theox\n",
      "28_frag\n",
      "29_lia\n",
      "30_patty\n",
      "31_antonis\n",
      "32_vicky\n",
      "33_iliasv\n",
      "34_alkis\n",
      "35_thanasis\n",
      "36_krod\n",
      "37_vassilisA\n",
      "38_christos\n",
      "39_anna\n",
      "40_spiliop\n",
      "41_kalp\n"
     ]
    }
   ],
   "source": [
    "# Test Subjects\n",
    "\n",
    "raw_data = './DATABASE/RAW DATA/'\n",
    "\n",
    "subjects = [f for f in os.listdir(raw_data) if os.path.isdir(os.path.join(raw_data, f))]\n",
    "\n",
    "print(*subjects, sep = \"\\n\")"
   ]
  },
  {
   "cell_type": "code",
   "execution_count": 30,
   "metadata": {},
   "outputs": [
    {
     "name": "stderr",
     "output_type": "stream",
     "text": [
      "100%|██████████| 41/41 [00:00<00:00, 114.52it/s]"
     ]
    },
    {
     "name": "stdout",
     "output_type": "stream",
     "text": [
      "Done\n"
     ]
    },
    {
     "name": "stderr",
     "output_type": "stream",
     "text": [
      "\n"
     ]
    }
   ],
   "source": [
    "for f in tqdm(subjects):\n",
    "    imgs = os.listdir(raw_data+f)\n",
    "    for img in imgs:\n",
    "        img_name = img.split('_')\n",
    "        \n",
    "        if(img_name[2]=='2' and img_name[3]=='f'):\n",
    "            shutil.move(raw_data+f+'/'+img , './DATABASE/Final Data/F/drunk')\n",
    "        \n",
    "        elif(img_name[2]=='1' and img_name[3]=='f'):\n",
    "            shutil.move(raw_data+f+'/'+img , './DATABASE/Final Data/F/sober')\n",
    "        \n",
    "        elif(img_name[2]=='2' and img_name[3]=='e'):\n",
    "            shutil.move(raw_data+f+'/'+img , './DATABASE/Final Data/E/drunk')\n",
    "        \n",
    "        elif(img_name[2]=='1' and img_name[3]=='e'):\n",
    "            shutil.move(raw_data+f+'/'+img , './DATABASE/Final Data/E/sober')\n",
    "\n",
    "        elif(img_name[2]=='2' and img_name[3]=='h'):\n",
    "            shutil.move(raw_data+f+'/'+img , './DATABASE/Final Data/H/drunk')\n",
    "        \n",
    "        elif(img_name[2]=='1' and img_name[3]=='h'):\n",
    "            shutil.move(raw_data+f+'/'+img , './DATABASE/Final Data/H/sober')\n",
    "        \n",
    "        elif(img_name[2]=='2' and img_name[3]=='r'):\n",
    "            shutil.move(raw_data+f+'/'+img , './DATABASE/Final Data/R/drunk')\n",
    "        \n",
    "        elif(img_name[2]=='1' and img_name[3]=='r'):\n",
    "            shutil.move(raw_data+f+'/'+img , './DATABASE/Final Data/R/sober')\n",
    "\n",
    "            \n",
    "print('Done')"
   ]
  }
 ],
 "metadata": {
  "kernelspec": {
   "display_name": "Python 3.10.7 64-bit",
   "language": "python",
   "name": "python3"
  },
  "language_info": {
   "codemirror_mode": {
    "name": "ipython",
    "version": 3
   },
   "file_extension": ".py",
   "mimetype": "text/x-python",
   "name": "python",
   "nbconvert_exporter": "python",
   "pygments_lexer": "ipython3",
   "version": "3.10.7"
  },
  "orig_nbformat": 4,
  "vscode": {
   "interpreter": {
    "hash": "df0524bd1b71ce58b56cd16670df85cbb80f1bdcaae4d42e7941e5b83e5f8cfb"
   }
  }
 },
 "nbformat": 4,
 "nbformat_minor": 2
}
